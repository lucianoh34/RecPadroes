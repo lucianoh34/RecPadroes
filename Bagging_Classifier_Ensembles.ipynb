{
  "nbformat": 4,
  "nbformat_minor": 0,
  "metadata": {
    "colab": {
      "provenance": [],
      "authorship_tag": "ABX9TyMC7FgHpwuJgKCC3L6m1iIS",
      "include_colab_link": true
    },
    "kernelspec": {
      "name": "python3",
      "display_name": "Python 3"
    },
    "language_info": {
      "name": "python"
    }
  },
  "cells": [
    {
      "cell_type": "markdown",
      "metadata": {
        "id": "view-in-github",
        "colab_type": "text"
      },
      "source": [
        "<a href=\"https://colab.research.google.com/github/lucianoh34/RecPadroes/blob/main/Bagging_Classifier_Ensembles.ipynb\" target=\"_parent\"><img src=\"https://colab.research.google.com/assets/colab-badge.svg\" alt=\"Open In Colab\"/></a>"
      ]
    },
    {
      "cell_type": "code",
      "source": [
        "from sklearn.datasets import load_iris\n",
        "dataset = load_iris()\n",
        "X, y = dataset.data, dataset.target"
      ],
      "metadata": {
        "id": "zGWB1nrXDXp9"
      },
      "execution_count": 1,
      "outputs": []
    },
    {
      "cell_type": "code",
      "source": [
        "import random\n",
        "import numpy as np\n",
        "def sorteiaCaracteristica(X, y):\n",
        "  caracteristica = random.randint(a=0, b=X.shape[1]-1)\n",
        "  valor = random.uniform(a=np.min(X[:,caracteristica]), b=np.max(X[:,caracteristica]))\n",
        "  return caracteristica, valor\n",
        "sorteiaCaracteristica(X, y)"
      ],
      "metadata": {
        "colab": {
          "base_uri": "https://localhost:8080/"
        },
        "id": "-QVCEkxhDZ8s",
        "outputId": "9de19dbe-b763-4177-d96b-060d6320614f"
      },
      "execution_count": 2,
      "outputs": [
        {
          "output_type": "execute_result",
          "data": {
            "text/plain": [
              "(3, 0.5277430000669713)"
            ]
          },
          "metadata": {},
          "execution_count": 2
        }
      ]
    },
    {
      "cell_type": "code",
      "source": [
        "from sklearn.base import BaseEstimator, ClassifierMixin\n",
        "from collections import Counter\n",
        "from sklearn.model_selection import cross_validate\n",
        "def maisFrequente(y):\n",
        "  return Counter(y.flat).most_common(1)[0][0]\n"
      ],
      "metadata": {
        "id": "igpV5-8JDE_8"
      },
      "execution_count": 3,
      "outputs": []
    },
    {
      "cell_type": "code",
      "execution_count": 4,
      "metadata": {
        "colab": {
          "base_uri": "https://localhost:8080/"
        },
        "id": "HjrsClhOCwsQ",
        "outputId": "13aac65c-4072-40b6-d1eb-1129f7e43e25"
      },
      "outputs": [
        {
          "output_type": "execute_result",
          "data": {
            "text/plain": [
              "(array([0.96666667, 0.96666667, 0.9       , 0.9       , 1.        ]),\n",
              " 0.9466666666666667)"
            ]
          },
          "metadata": {},
          "execution_count": 4
        }
      ],
      "source": [
        "class Arvore(BaseEstimator, ClassifierMixin):\n",
        "  def fit(self, X, y):\n",
        "    self.caracteristica, self.valor = sorteiaCaracteristica(X, y)\n",
        "    maiores = X[:,self.caracteristica] > self.valor\n",
        "    if sum(maiores)>0 and sum(~maiores)>0:\n",
        "      self.maiores = Arvore()\n",
        "      self.maiores.fit(X[maiores,:], y[maiores])\n",
        "      self.menores = Arvore()\n",
        "      self.menores.fit(X[~maiores,:], y[~maiores])\n",
        "    else:\n",
        "      self.resposta = maisFrequente( y )\n",
        "    return self\n",
        "  def predict(self, X):\n",
        "    y = np.empty((X.shape[0]), dtype=np.int64)\n",
        "    if hasattr(self, 'resposta'):\n",
        "      y[:] = self.resposta\n",
        "    else:\n",
        "      maiores = X[:, self.caracteristica] > self.valor\n",
        "      y[maiores] = self.maiores.predict(X[maiores,:])\n",
        "      y[~maiores] = self.menores.predict(X[~maiores,:])\n",
        "    return y\n",
        "from sklearn.ensemble import BaggingClassifier\n",
        "modelo = BaggingClassifier(Arvore(),\n",
        "                           n_estimators=100)\n",
        "results = cross_validate(modelo, X, y)\n",
        "results['test_score'], np.mean(results['test_score'])"
      ]
    }
  ]
}