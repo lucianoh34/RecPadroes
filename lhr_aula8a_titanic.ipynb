{
  "nbformat": 4,
  "nbformat_minor": 0,
  "metadata": {
    "colab": {
      "provenance": [],
      "include_colab_link": true
    },
    "kernelspec": {
      "name": "python3",
      "display_name": "Python 3"
    },
    "language_info": {
      "name": "python"
    }
  },
  "cells": [
    {
      "cell_type": "markdown",
      "metadata": {
        "id": "view-in-github",
        "colab_type": "text"
      },
      "source": [
        "<a href=\"https://colab.research.google.com/github/lucianoh34/RecPadroes/blob/main/lhr_aula8a_titanic.ipynb\" target=\"_parent\"><img src=\"https://colab.research.google.com/assets/colab-badge.svg\" alt=\"Open In Colab\"/></a>"
      ]
    },
    {
      "cell_type": "code",
      "execution_count": null,
      "metadata": {
        "id": "h77QxgB5le_W",
        "colab": {
          "base_uri": "https://localhost:8080/"
        },
        "outputId": "8ba2bee3-35e6-4e02-8a45-11da5879b619"
      },
      "outputs": [
        {
          "output_type": "stream",
          "name": "stdout",
          "text": [
            "Archive:  titanic.zip\n",
            "  inflating: gender_submission.csv   \n",
            "  inflating: test.csv                \n",
            "  inflating: train.csv               \n"
          ]
        }
      ],
      "source": [
        "!unzip titanic.zip"
      ]
    },
    {
      "cell_type": "code",
      "source": [
        "import pandas as pd\n",
        "data = pd.read_csv(\"train.csv\")\n",
        "data.dtypes"
      ],
      "metadata": {
        "colab": {
          "base_uri": "https://localhost:8080/"
        },
        "id": "4nX7lNr2qlwa",
        "outputId": "ee176f3a-a028-40f4-9f15-63dcbc1d319f"
      },
      "execution_count": null,
      "outputs": [
        {
          "output_type": "execute_result",
          "data": {
            "text/plain": [
              "PassengerId      int64\n",
              "Survived         int64\n",
              "Pclass           int64\n",
              "Name            object\n",
              "Sex             object\n",
              "Age            float64\n",
              "SibSp            int64\n",
              "Parch            int64\n",
              "Ticket          object\n",
              "Fare           float64\n",
              "Cabin           object\n",
              "Embarked        object\n",
              "dtype: object"
            ]
          },
          "metadata": {},
          "execution_count": 101
        }
      ]
    },
    {
      "cell_type": "markdown",
      "source": [
        "# Nova seção"
      ],
      "metadata": {
        "id": "qc6Z4zwyxBSm"
      }
    },
    {
      "cell_type": "code",
      "source": [
        "y = data['Survived']\n",
        "y"
      ],
      "metadata": {
        "colab": {
          "base_uri": "https://localhost:8080/"
        },
        "id": "K4XMt0F9rg0o",
        "outputId": "adf06918-63d8-402c-b4b8-3646942491cb"
      },
      "execution_count": null,
      "outputs": [
        {
          "output_type": "execute_result",
          "data": {
            "text/plain": [
              "0      0\n",
              "1      1\n",
              "2      1\n",
              "3      1\n",
              "4      0\n",
              "      ..\n",
              "886    0\n",
              "887    1\n",
              "888    0\n",
              "889    1\n",
              "890    0\n",
              "Name: Survived, Length: 891, dtype: int64"
            ]
          },
          "metadata": {},
          "execution_count": 102
        }
      ]
    },
    {
      "cell_type": "code",
      "source": [
        "X = data.drop('Survived', axis=1)\n",
        "X.columns"
      ],
      "metadata": {
        "colab": {
          "base_uri": "https://localhost:8080/"
        },
        "id": "rpzaCWHQryYX",
        "outputId": "9c3aabeb-404c-4cc2-d13d-a4d0174f2cac"
      },
      "execution_count": null,
      "outputs": [
        {
          "output_type": "execute_result",
          "data": {
            "text/plain": [
              "Index(['PassengerId', 'Pclass', 'Name', 'Sex', 'Age', 'SibSp', 'Parch',\n",
              "       'Ticket', 'Fare', 'Cabin', 'Embarked'],\n",
              "      dtype='object')"
            ]
          },
          "metadata": {},
          "execution_count": 103
        }
      ]
    },
    {
      "cell_type": "code",
      "source": [
        "for column in X.columns:\n",
        "  print(f\"{column:>12} {len(set(X[column])):4} {X[column].dtype}\")"
      ],
      "metadata": {
        "colab": {
          "base_uri": "https://localhost:8080/"
        },
        "id": "FOerFP7qsHmN",
        "outputId": "09aa2fb5-c141-4fa9-8ff1-e8bb3a602595"
      },
      "execution_count": null,
      "outputs": [
        {
          "output_type": "stream",
          "name": "stdout",
          "text": [
            " PassengerId  891 int64\n",
            "      Pclass    3 int64\n",
            "        Name  891 object\n",
            "         Sex    2 object\n",
            "         Age  265 float64\n",
            "       SibSp    7 int64\n",
            "       Parch    7 int64\n",
            "      Ticket  681 object\n",
            "        Fare  248 float64\n",
            "       Cabin  148 object\n",
            "    Embarked    4 object\n"
          ]
        }
      ]
    },
    {
      "cell_type": "code",
      "source": [
        "indesejadas = ['PassengerId','Name','Ticket','Cabin']\n",
        "Xdrop = X.drop(indesejadas, axis=1)\n",
        "Xdrop.columns"
      ],
      "metadata": {
        "colab": {
          "base_uri": "https://localhost:8080/"
        },
        "id": "ThwxXBsOuCo-",
        "outputId": "f71a9a0e-af36-4cd8-cda0-55ed533ee7d3"
      },
      "execution_count": null,
      "outputs": [
        {
          "output_type": "execute_result",
          "data": {
            "text/plain": [
              "Index(['Pclass', 'Sex', 'Age', 'SibSp', 'Parch', 'Fare', 'Embarked'], dtype='object')"
            ]
          },
          "metadata": {},
          "execution_count": 105
        }
      ]
    },
    {
      "cell_type": "code",
      "source": [
        "Xnum = Xdrop.select_dtypes('number')\n",
        "Xnum.columns"
      ],
      "metadata": {
        "colab": {
          "base_uri": "https://localhost:8080/"
        },
        "id": "roPSEegEu4OZ",
        "outputId": "5be9b549-4c5d-4c84-ee27-a15fe6c8e594"
      },
      "execution_count": null,
      "outputs": [
        {
          "output_type": "execute_result",
          "data": {
            "text/plain": [
              "Index(['Pclass', 'Age', 'SibSp', 'Parch', 'Fare'], dtype='object')"
            ]
          },
          "metadata": {},
          "execution_count": 106
        }
      ]
    },
    {
      "cell_type": "code",
      "source": [
        "for column in Xnum.columns:\n",
        "  print(f\"{column:>12} {sum(Xnum[column].isnull())}\")"
      ],
      "metadata": {
        "colab": {
          "base_uri": "https://localhost:8080/"
        },
        "id": "NQRiXugGvJlm",
        "outputId": "19e277d3-3dde-493c-f8aa-13504630b9e8"
      },
      "execution_count": null,
      "outputs": [
        {
          "output_type": "stream",
          "name": "stdout",
          "text": [
            "      Pclass 0\n",
            "         Age 177\n",
            "       SibSp 0\n",
            "       Parch 0\n",
            "        Fare 0\n"
          ]
        }
      ]
    },
    {
      "cell_type": "markdown",
      "source": [
        "# Excluir"
      ],
      "metadata": {
        "id": "vN7B948T4GpO"
      }
    },
    {
      "cell_type": "code",
      "source": [
        "Xdrop.where(Xdrop.Sex == \"female\").Age.isnull"
      ],
      "metadata": {
        "colab": {
          "base_uri": "https://localhost:8080/"
        },
        "id": "TZ3ABOww3Efv",
        "outputId": "37c8adb7-ef5c-4154-d7a0-08c81bc014c1"
      },
      "execution_count": null,
      "outputs": [
        {
          "output_type": "execute_result",
          "data": {
            "text/plain": [
              "<bound method Series.isnull of 0       NaN\n",
              "1      38.0\n",
              "2      26.0\n",
              "3      35.0\n",
              "4       NaN\n",
              "       ... \n",
              "886     NaN\n",
              "887    19.0\n",
              "888     NaN\n",
              "889     NaN\n",
              "890     NaN\n",
              "Name: Age, Length: 891, dtype: float64>"
            ]
          },
          "metadata": {},
          "execution_count": 108
        }
      ]
    },
    {
      "cell_type": "code",
      "source": [
        "IdadeporClasseSexoH = Xdrop.where(Xdrop.Sex == \"male\").groupby(Xdrop.Pclass).Age.mean()\n",
        "IdadeporClasseSexoH"
      ],
      "metadata": {
        "colab": {
          "base_uri": "https://localhost:8080/"
        },
        "id": "mJjB2VKkpXc9",
        "outputId": "90121213-71d8-42a3-dfb1-98ac4d61865f"
      },
      "execution_count": null,
      "outputs": [
        {
          "output_type": "execute_result",
          "data": {
            "text/plain": [
              "Pclass\n",
              "1    41.281386\n",
              "2    30.740707\n",
              "3    26.507589\n",
              "Name: Age, dtype: float64"
            ]
          },
          "metadata": {},
          "execution_count": 109
        }
      ]
    },
    {
      "cell_type": "code",
      "source": [
        "IdadeporClasseSexoM = Xdrop.where(Xdrop.Sex == \"female\").groupby(Xdrop.Pclass).Age.mean()\n",
        "IdadeporClasseSexoM"
      ],
      "metadata": {
        "colab": {
          "base_uri": "https://localhost:8080/"
        },
        "id": "BGSR3c4mu0_3",
        "outputId": "b2abdcab-ff4a-4a26-c814-3adeefdf2532"
      },
      "execution_count": null,
      "outputs": [
        {
          "output_type": "execute_result",
          "data": {
            "text/plain": [
              "Pclass\n",
              "1    34.611765\n",
              "2    28.722973\n",
              "3    21.750000\n",
              "Name: Age, dtype: float64"
            ]
          },
          "metadata": {},
          "execution_count": 110
        }
      ]
    },
    {
      "cell_type": "markdown",
      "source": [
        "# Excluir"
      ],
      "metadata": {
        "id": "3cg1VFQH4vAY"
      }
    },
    {
      "cell_type": "code",
      "source": [
        "Xdrop.Embarked.fillna(\"S\", inplace=True)\n",
        "\n",
        "for index, mean_age in IdadeporClasseSexoH.items():\n",
        "    Xdrop.loc[(Xdrop['Sex'] == \"male\") & (Xdrop['Pclass'] == index) & (Xdrop['Age'].isnull()), 'Age'] = mean_age\n",
        "\n",
        "for index, mean_age in IdadeporClasseSexoM.items():\n",
        "    Xdrop.loc[(Xdrop['Sex'] == \"female\") & (Xdrop['Pclass'] == index) & (Xdrop['Age'].isnull()), 'Age'] = mean_age\n",
        "\n",
        "\n",
        "Xdrop.where(Xdrop.Sex == \"female\").Age.isnull"
      ],
      "metadata": {
        "colab": {
          "base_uri": "https://localhost:8080/"
        },
        "id": "MnNbMmOywXkW",
        "outputId": "6ee00247-40d5-4900-f4df-e92ef13a426c"
      },
      "execution_count": null,
      "outputs": [
        {
          "output_type": "execute_result",
          "data": {
            "text/plain": [
              "<bound method Series.isnull of 0        NaN\n",
              "1      38.00\n",
              "2      26.00\n",
              "3      35.00\n",
              "4        NaN\n",
              "       ...  \n",
              "886      NaN\n",
              "887    19.00\n",
              "888    21.75\n",
              "889      NaN\n",
              "890      NaN\n",
              "Name: Age, Length: 891, dtype: float64>"
            ]
          },
          "metadata": {},
          "execution_count": 111
        }
      ]
    },
    {
      "cell_type": "markdown",
      "source": [
        "# Popula as idades vazias com a media das idades por Classe e por Sexo"
      ],
      "metadata": {
        "id": "enXta0V05J_q"
      }
    },
    {
      "cell_type": "code",
      "source": [
        "def SwapNullAge(Xdrop):\n",
        "\n",
        "  Xdrop.Embarked.fillna(\"S\", inplace=True)\n",
        "\n",
        "  for index, mean_age in IdadeporClasseSexoH.items():\n",
        "      Xdrop.loc[(Xdrop['Sex'] == \"male\") & (Xdrop['Pclass'] == index) & (Xdrop['Age'].isnull()), 'Age'] = mean_age\n",
        "\n",
        "  for index, mean_age in IdadeporClasseSexoM.items():\n",
        "      Xdrop.loc[(Xdrop['Sex'] == \"female\") & (Xdrop['Pclass'] == index) & (Xdrop['Age'].isnull()), 'Age'] = mean_age\n",
        "\n",
        "  return Xdrop"
      ],
      "metadata": {
        "id": "13eUe8dTvV1r"
      },
      "execution_count": null,
      "outputs": []
    },
    {
      "cell_type": "code",
      "source": [
        "from sklearn.impute import SimpleImputer\n",
        "imputer = SimpleImputer(strategy=\"median\")\n",
        "XnumLimpo = imputer.fit_transform(Xnum)\n",
        "XnumLimpo"
      ],
      "metadata": {
        "colab": {
          "base_uri": "https://localhost:8080/"
        },
        "id": "z0qjrQgtxhN2",
        "outputId": "b9c3f749-3e10-433c-c3cf-a974c1a8c877"
      },
      "execution_count": null,
      "outputs": [
        {
          "output_type": "execute_result",
          "data": {
            "text/plain": [
              "array([[ 3.    , 22.    ,  1.    ,  0.    ,  7.25  ],\n",
              "       [ 1.    , 38.    ,  1.    ,  0.    , 71.2833],\n",
              "       [ 3.    , 26.    ,  0.    ,  0.    ,  7.925 ],\n",
              "       ...,\n",
              "       [ 3.    , 28.    ,  1.    ,  2.    , 23.45  ],\n",
              "       [ 1.    , 26.    ,  0.    ,  0.    , 30.    ],\n",
              "       [ 3.    , 32.    ,  0.    ,  0.    ,  7.75  ]])"
            ]
          },
          "metadata": {},
          "execution_count": 113
        }
      ]
    },
    {
      "cell_type": "code",
      "source": [
        "Xcat = Xdrop.select_dtypes('object')\n",
        "Xcat.columns"
      ],
      "metadata": {
        "colab": {
          "base_uri": "https://localhost:8080/"
        },
        "id": "zm9g4_VtyfxG",
        "outputId": "60e6d78e-da25-43aa-8e7b-bdc7649bfcd0"
      },
      "execution_count": null,
      "outputs": [
        {
          "output_type": "execute_result",
          "data": {
            "text/plain": [
              "Index(['Sex', 'Embarked'], dtype='object')"
            ]
          },
          "metadata": {},
          "execution_count": 114
        }
      ]
    },
    {
      "cell_type": "code",
      "source": [
        "for column in Xcat.columns:\n",
        "  print(f\"{column:>12} {sum(Xcat[column].isnull())}\")"
      ],
      "metadata": {
        "colab": {
          "base_uri": "https://localhost:8080/"
        },
        "id": "TY68K_uyyt0F",
        "outputId": "5becf19b-1d22-4c29-af1f-81687b914eff"
      },
      "execution_count": null,
      "outputs": [
        {
          "output_type": "stream",
          "name": "stdout",
          "text": [
            "         Sex 0\n",
            "    Embarked 0\n"
          ]
        }
      ]
    },
    {
      "cell_type": "code",
      "source": [
        "from sklearn.impute import SimpleImputer\n",
        "imputer = SimpleImputer(strategy=\"most_frequent\")\n",
        "XcatLimpo = imputer.fit_transform(Xcat)\n",
        "XcatLimpo"
      ],
      "metadata": {
        "colab": {
          "base_uri": "https://localhost:8080/"
        },
        "id": "nISMQlVoy47L",
        "outputId": "2193a871-9979-4d71-de5b-5f3556c1d7f1"
      },
      "execution_count": null,
      "outputs": [
        {
          "output_type": "execute_result",
          "data": {
            "text/plain": [
              "array([['male', 'S'],\n",
              "       ['female', 'C'],\n",
              "       ['female', 'S'],\n",
              "       ...,\n",
              "       ['female', 'S'],\n",
              "       ['male', 'C'],\n",
              "       ['male', 'Q']], dtype=object)"
            ]
          },
          "metadata": {},
          "execution_count": 116
        }
      ]
    },
    {
      "cell_type": "code",
      "source": [
        "from sklearn.preprocessing import OneHotEncoder\n",
        "encoder  = OneHotEncoder()\n",
        "XcatHot = encoder.fit_transform(XcatLimpo)\n",
        "XcatHot"
      ],
      "metadata": {
        "colab": {
          "base_uri": "https://localhost:8080/"
        },
        "id": "8ERyK3Cmz-fY",
        "outputId": "d841d1e5-a69d-4060-c24f-396c604be0dd"
      },
      "execution_count": null,
      "outputs": [
        {
          "output_type": "execute_result",
          "data": {
            "text/plain": [
              "<891x5 sparse matrix of type '<class 'numpy.float64'>'\n",
              "\twith 1782 stored elements in Compressed Sparse Row format>"
            ]
          },
          "metadata": {},
          "execution_count": 117
        }
      ]
    },
    {
      "cell_type": "code",
      "source": [
        "import numpy as np\n",
        "\n",
        "Xnumtrat = SwapNullAge(Xdrop)\n",
        "Xtratado = np.c_[Xnumtrat, XcatHot.toarray()]\n",
        "Xtratado.shape"
      ],
      "metadata": {
        "colab": {
          "base_uri": "https://localhost:8080/"
        },
        "id": "s1kNmcSH05Tf",
        "outputId": "ee511020-1348-48a1-fe1d-320c7c53e2ff"
      },
      "execution_count": null,
      "outputs": [
        {
          "output_type": "execute_result",
          "data": {
            "text/plain": [
              "(891, 12)"
            ]
          },
          "metadata": {},
          "execution_count": 118
        }
      ]
    },
    {
      "cell_type": "code",
      "source": [
        "import pandas as pd\n",
        "train = pd.read_csv('train.csv')\n",
        "test = pd.read_csv('test.csv')\n",
        "train.columns.isin(test.columns)"
      ],
      "metadata": {
        "colab": {
          "base_uri": "https://localhost:8080/"
        },
        "id": "LnEzJsNU1LdY",
        "outputId": "fbd3163b-2c97-4731-8407-4f910224da34"
      },
      "execution_count": null,
      "outputs": [
        {
          "output_type": "execute_result",
          "data": {
            "text/plain": [
              "array([ True, False,  True,  True,  True,  True,  True,  True,  True,\n",
              "        True,  True,  True])"
            ]
          },
          "metadata": {},
          "execution_count": 119
        }
      ]
    },
    {
      "cell_type": "code",
      "source": [
        "train.columns[~train.columns.isin(test.columns)]"
      ],
      "metadata": {
        "colab": {
          "base_uri": "https://localhost:8080/"
        },
        "id": "12f8L7X11qeo",
        "outputId": "f0373a63-c048-4875-f8fb-33f6785169c1"
      },
      "execution_count": null,
      "outputs": [
        {
          "output_type": "execute_result",
          "data": {
            "text/plain": [
              "Index(['Survived'], dtype='object')"
            ]
          },
          "metadata": {},
          "execution_count": 120
        }
      ]
    },
    {
      "cell_type": "code",
      "source": [
        "from sklearn.base import BaseEstimator, TransformerMixin\n",
        "\n",
        "class SwapNullAgeTransformer(BaseEstimator, TransformerMixin):\n",
        "    def fit(self, X, y=None):\n",
        "        # Não é necessário fazer nada no método fit para este caso\n",
        "        return self\n",
        "\n",
        "    def transform(self, X):\n",
        "        X_transformed = X.copy()\n",
        "        #assert 1==2, X_transformed.columns\n",
        "        X_transformed.Embarked.fillna(\"S\", inplace=True)\n",
        "        for index, mean_age in IdadeporClasseSexoH.items():\n",
        "            X_transformed.loc[(X_transformed['Sex'] == \"male\") & (X_transformed['Pclass'] == index) & (X_transformed['Age'].isnull()), 'Age'] = mean_age\n",
        "        for index, mean_age in IdadeporClasseSexoM.items():\n",
        "            X_transformed.loc[(X_transformed['Sex'] == \"female\") & (X_transformed['Pclass'] == index) & (X_transformed['Age'].isnull()), 'Age'] = mean_age\n",
        "        return X_transformed\n",
        "\n"
      ],
      "metadata": {
        "id": "jissWtLMCO9g"
      },
      "execution_count": null,
      "outputs": []
    },
    {
      "cell_type": "code",
      "source": [
        "from sklearn.pipeline import Pipeline\n",
        "from sklearn.impute import SimpleImputer\n",
        "from sklearn.preprocessing import StandardScaler\n",
        "\n",
        "pipelu = Pipeline([\n",
        "    ('swap_null_age', SwapNullAgeTransformer())\n",
        "])\n",
        "\n",
        "#assert 1==2, Xdrop.columns\n",
        "XageLimpo = pipelu.fit_transform(X)\n",
        "XageLimpo"
      ],
      "metadata": {
        "colab": {
          "base_uri": "https://localhost:8080/",
          "height": 458
        },
        "id": "Qe9JTaW86Rds",
        "outputId": "2db0577c-2e52-45d6-d6cd-9d27069d5511"
      },
      "execution_count": null,
      "outputs": [
        {
          "output_type": "execute_result",
          "data": {
            "text/plain": [
              "     PassengerId  Pclass                                               Name  \\\n",
              "0              1       3                            Braund, Mr. Owen Harris   \n",
              "1              2       1  Cumings, Mrs. John Bradley (Florence Briggs Th...   \n",
              "2              3       3                             Heikkinen, Miss. Laina   \n",
              "3              4       1       Futrelle, Mrs. Jacques Heath (Lily May Peel)   \n",
              "4              5       3                           Allen, Mr. William Henry   \n",
              "..           ...     ...                                                ...   \n",
              "886          887       2                              Montvila, Rev. Juozas   \n",
              "887          888       1                       Graham, Miss. Margaret Edith   \n",
              "888          889       3           Johnston, Miss. Catherine Helen \"Carrie\"   \n",
              "889          890       1                              Behr, Mr. Karl Howell   \n",
              "890          891       3                                Dooley, Mr. Patrick   \n",
              "\n",
              "        Sex    Age  SibSp  Parch            Ticket     Fare Cabin Embarked  \n",
              "0      male  22.00      1      0         A/5 21171   7.2500   NaN        S  \n",
              "1    female  38.00      1      0          PC 17599  71.2833   C85        C  \n",
              "2    female  26.00      0      0  STON/O2. 3101282   7.9250   NaN        S  \n",
              "3    female  35.00      1      0            113803  53.1000  C123        S  \n",
              "4      male  35.00      0      0            373450   8.0500   NaN        S  \n",
              "..      ...    ...    ...    ...               ...      ...   ...      ...  \n",
              "886    male  27.00      0      0            211536  13.0000   NaN        S  \n",
              "887  female  19.00      0      0            112053  30.0000   B42        S  \n",
              "888  female  21.75      1      2        W./C. 6607  23.4500   NaN        S  \n",
              "889    male  26.00      0      0            111369  30.0000  C148        C  \n",
              "890    male  32.00      0      0            370376   7.7500   NaN        Q  \n",
              "\n",
              "[891 rows x 11 columns]"
            ],
            "text/html": [
              "\n",
              "  <div id=\"df-d3bcdd24-38b9-497c-bad7-c4f86e2746f0\" class=\"colab-df-container\">\n",
              "    <div>\n",
              "<style scoped>\n",
              "    .dataframe tbody tr th:only-of-type {\n",
              "        vertical-align: middle;\n",
              "    }\n",
              "\n",
              "    .dataframe tbody tr th {\n",
              "        vertical-align: top;\n",
              "    }\n",
              "\n",
              "    .dataframe thead th {\n",
              "        text-align: right;\n",
              "    }\n",
              "</style>\n",
              "<table border=\"1\" class=\"dataframe\">\n",
              "  <thead>\n",
              "    <tr style=\"text-align: right;\">\n",
              "      <th></th>\n",
              "      <th>PassengerId</th>\n",
              "      <th>Pclass</th>\n",
              "      <th>Name</th>\n",
              "      <th>Sex</th>\n",
              "      <th>Age</th>\n",
              "      <th>SibSp</th>\n",
              "      <th>Parch</th>\n",
              "      <th>Ticket</th>\n",
              "      <th>Fare</th>\n",
              "      <th>Cabin</th>\n",
              "      <th>Embarked</th>\n",
              "    </tr>\n",
              "  </thead>\n",
              "  <tbody>\n",
              "    <tr>\n",
              "      <th>0</th>\n",
              "      <td>1</td>\n",
              "      <td>3</td>\n",
              "      <td>Braund, Mr. Owen Harris</td>\n",
              "      <td>male</td>\n",
              "      <td>22.00</td>\n",
              "      <td>1</td>\n",
              "      <td>0</td>\n",
              "      <td>A/5 21171</td>\n",
              "      <td>7.2500</td>\n",
              "      <td>NaN</td>\n",
              "      <td>S</td>\n",
              "    </tr>\n",
              "    <tr>\n",
              "      <th>1</th>\n",
              "      <td>2</td>\n",
              "      <td>1</td>\n",
              "      <td>Cumings, Mrs. John Bradley (Florence Briggs Th...</td>\n",
              "      <td>female</td>\n",
              "      <td>38.00</td>\n",
              "      <td>1</td>\n",
              "      <td>0</td>\n",
              "      <td>PC 17599</td>\n",
              "      <td>71.2833</td>\n",
              "      <td>C85</td>\n",
              "      <td>C</td>\n",
              "    </tr>\n",
              "    <tr>\n",
              "      <th>2</th>\n",
              "      <td>3</td>\n",
              "      <td>3</td>\n",
              "      <td>Heikkinen, Miss. Laina</td>\n",
              "      <td>female</td>\n",
              "      <td>26.00</td>\n",
              "      <td>0</td>\n",
              "      <td>0</td>\n",
              "      <td>STON/O2. 3101282</td>\n",
              "      <td>7.9250</td>\n",
              "      <td>NaN</td>\n",
              "      <td>S</td>\n",
              "    </tr>\n",
              "    <tr>\n",
              "      <th>3</th>\n",
              "      <td>4</td>\n",
              "      <td>1</td>\n",
              "      <td>Futrelle, Mrs. Jacques Heath (Lily May Peel)</td>\n",
              "      <td>female</td>\n",
              "      <td>35.00</td>\n",
              "      <td>1</td>\n",
              "      <td>0</td>\n",
              "      <td>113803</td>\n",
              "      <td>53.1000</td>\n",
              "      <td>C123</td>\n",
              "      <td>S</td>\n",
              "    </tr>\n",
              "    <tr>\n",
              "      <th>4</th>\n",
              "      <td>5</td>\n",
              "      <td>3</td>\n",
              "      <td>Allen, Mr. William Henry</td>\n",
              "      <td>male</td>\n",
              "      <td>35.00</td>\n",
              "      <td>0</td>\n",
              "      <td>0</td>\n",
              "      <td>373450</td>\n",
              "      <td>8.0500</td>\n",
              "      <td>NaN</td>\n",
              "      <td>S</td>\n",
              "    </tr>\n",
              "    <tr>\n",
              "      <th>...</th>\n",
              "      <td>...</td>\n",
              "      <td>...</td>\n",
              "      <td>...</td>\n",
              "      <td>...</td>\n",
              "      <td>...</td>\n",
              "      <td>...</td>\n",
              "      <td>...</td>\n",
              "      <td>...</td>\n",
              "      <td>...</td>\n",
              "      <td>...</td>\n",
              "      <td>...</td>\n",
              "    </tr>\n",
              "    <tr>\n",
              "      <th>886</th>\n",
              "      <td>887</td>\n",
              "      <td>2</td>\n",
              "      <td>Montvila, Rev. Juozas</td>\n",
              "      <td>male</td>\n",
              "      <td>27.00</td>\n",
              "      <td>0</td>\n",
              "      <td>0</td>\n",
              "      <td>211536</td>\n",
              "      <td>13.0000</td>\n",
              "      <td>NaN</td>\n",
              "      <td>S</td>\n",
              "    </tr>\n",
              "    <tr>\n",
              "      <th>887</th>\n",
              "      <td>888</td>\n",
              "      <td>1</td>\n",
              "      <td>Graham, Miss. Margaret Edith</td>\n",
              "      <td>female</td>\n",
              "      <td>19.00</td>\n",
              "      <td>0</td>\n",
              "      <td>0</td>\n",
              "      <td>112053</td>\n",
              "      <td>30.0000</td>\n",
              "      <td>B42</td>\n",
              "      <td>S</td>\n",
              "    </tr>\n",
              "    <tr>\n",
              "      <th>888</th>\n",
              "      <td>889</td>\n",
              "      <td>3</td>\n",
              "      <td>Johnston, Miss. Catherine Helen \"Carrie\"</td>\n",
              "      <td>female</td>\n",
              "      <td>21.75</td>\n",
              "      <td>1</td>\n",
              "      <td>2</td>\n",
              "      <td>W./C. 6607</td>\n",
              "      <td>23.4500</td>\n",
              "      <td>NaN</td>\n",
              "      <td>S</td>\n",
              "    </tr>\n",
              "    <tr>\n",
              "      <th>889</th>\n",
              "      <td>890</td>\n",
              "      <td>1</td>\n",
              "      <td>Behr, Mr. Karl Howell</td>\n",
              "      <td>male</td>\n",
              "      <td>26.00</td>\n",
              "      <td>0</td>\n",
              "      <td>0</td>\n",
              "      <td>111369</td>\n",
              "      <td>30.0000</td>\n",
              "      <td>C148</td>\n",
              "      <td>C</td>\n",
              "    </tr>\n",
              "    <tr>\n",
              "      <th>890</th>\n",
              "      <td>891</td>\n",
              "      <td>3</td>\n",
              "      <td>Dooley, Mr. Patrick</td>\n",
              "      <td>male</td>\n",
              "      <td>32.00</td>\n",
              "      <td>0</td>\n",
              "      <td>0</td>\n",
              "      <td>370376</td>\n",
              "      <td>7.7500</td>\n",
              "      <td>NaN</td>\n",
              "      <td>Q</td>\n",
              "    </tr>\n",
              "  </tbody>\n",
              "</table>\n",
              "<p>891 rows × 11 columns</p>\n",
              "</div>\n",
              "    <div class=\"colab-df-buttons\">\n",
              "\n",
              "  <div class=\"colab-df-container\">\n",
              "    <button class=\"colab-df-convert\" onclick=\"convertToInteractive('df-d3bcdd24-38b9-497c-bad7-c4f86e2746f0')\"\n",
              "            title=\"Convert this dataframe to an interactive table.\"\n",
              "            style=\"display:none;\">\n",
              "\n",
              "  <svg xmlns=\"http://www.w3.org/2000/svg\" height=\"24px\" viewBox=\"0 -960 960 960\">\n",
              "    <path d=\"M120-120v-720h720v720H120Zm60-500h600v-160H180v160Zm220 220h160v-160H400v160Zm0 220h160v-160H400v160ZM180-400h160v-160H180v160Zm440 0h160v-160H620v160ZM180-180h160v-160H180v160Zm440 0h160v-160H620v160Z\"/>\n",
              "  </svg>\n",
              "    </button>\n",
              "\n",
              "  <style>\n",
              "    .colab-df-container {\n",
              "      display:flex;\n",
              "      gap: 12px;\n",
              "    }\n",
              "\n",
              "    .colab-df-convert {\n",
              "      background-color: #E8F0FE;\n",
              "      border: none;\n",
              "      border-radius: 50%;\n",
              "      cursor: pointer;\n",
              "      display: none;\n",
              "      fill: #1967D2;\n",
              "      height: 32px;\n",
              "      padding: 0 0 0 0;\n",
              "      width: 32px;\n",
              "    }\n",
              "\n",
              "    .colab-df-convert:hover {\n",
              "      background-color: #E2EBFA;\n",
              "      box-shadow: 0px 1px 2px rgba(60, 64, 67, 0.3), 0px 1px 3px 1px rgba(60, 64, 67, 0.15);\n",
              "      fill: #174EA6;\n",
              "    }\n",
              "\n",
              "    .colab-df-buttons div {\n",
              "      margin-bottom: 4px;\n",
              "    }\n",
              "\n",
              "    [theme=dark] .colab-df-convert {\n",
              "      background-color: #3B4455;\n",
              "      fill: #D2E3FC;\n",
              "    }\n",
              "\n",
              "    [theme=dark] .colab-df-convert:hover {\n",
              "      background-color: #434B5C;\n",
              "      box-shadow: 0px 1px 3px 1px rgba(0, 0, 0, 0.15);\n",
              "      filter: drop-shadow(0px 1px 2px rgba(0, 0, 0, 0.3));\n",
              "      fill: #FFFFFF;\n",
              "    }\n",
              "  </style>\n",
              "\n",
              "    <script>\n",
              "      const buttonEl =\n",
              "        document.querySelector('#df-d3bcdd24-38b9-497c-bad7-c4f86e2746f0 button.colab-df-convert');\n",
              "      buttonEl.style.display =\n",
              "        google.colab.kernel.accessAllowed ? 'block' : 'none';\n",
              "\n",
              "      async function convertToInteractive(key) {\n",
              "        const element = document.querySelector('#df-d3bcdd24-38b9-497c-bad7-c4f86e2746f0');\n",
              "        const dataTable =\n",
              "          await google.colab.kernel.invokeFunction('convertToInteractive',\n",
              "                                                    [key], {});\n",
              "        if (!dataTable) return;\n",
              "\n",
              "        const docLinkHtml = 'Like what you see? Visit the ' +\n",
              "          '<a target=\"_blank\" href=https://colab.research.google.com/notebooks/data_table.ipynb>data table notebook</a>'\n",
              "          + ' to learn more about interactive tables.';\n",
              "        element.innerHTML = '';\n",
              "        dataTable['output_type'] = 'display_data';\n",
              "        await google.colab.output.renderOutput(dataTable, element);\n",
              "        const docLink = document.createElement('div');\n",
              "        docLink.innerHTML = docLinkHtml;\n",
              "        element.appendChild(docLink);\n",
              "      }\n",
              "    </script>\n",
              "  </div>\n",
              "\n",
              "\n",
              "<div id=\"df-fb865622-dfe8-4744-8a91-ba4a1bccf078\">\n",
              "  <button class=\"colab-df-quickchart\" onclick=\"quickchart('df-fb865622-dfe8-4744-8a91-ba4a1bccf078')\"\n",
              "            title=\"Suggest charts\"\n",
              "            style=\"display:none;\">\n",
              "\n",
              "<svg xmlns=\"http://www.w3.org/2000/svg\" height=\"24px\"viewBox=\"0 0 24 24\"\n",
              "     width=\"24px\">\n",
              "    <g>\n",
              "        <path d=\"M19 3H5c-1.1 0-2 .9-2 2v14c0 1.1.9 2 2 2h14c1.1 0 2-.9 2-2V5c0-1.1-.9-2-2-2zM9 17H7v-7h2v7zm4 0h-2V7h2v10zm4 0h-2v-4h2v4z\"/>\n",
              "    </g>\n",
              "</svg>\n",
              "  </button>\n",
              "\n",
              "<style>\n",
              "  .colab-df-quickchart {\n",
              "      --bg-color: #E8F0FE;\n",
              "      --fill-color: #1967D2;\n",
              "      --hover-bg-color: #E2EBFA;\n",
              "      --hover-fill-color: #174EA6;\n",
              "      --disabled-fill-color: #AAA;\n",
              "      --disabled-bg-color: #DDD;\n",
              "  }\n",
              "\n",
              "  [theme=dark] .colab-df-quickchart {\n",
              "      --bg-color: #3B4455;\n",
              "      --fill-color: #D2E3FC;\n",
              "      --hover-bg-color: #434B5C;\n",
              "      --hover-fill-color: #FFFFFF;\n",
              "      --disabled-bg-color: #3B4455;\n",
              "      --disabled-fill-color: #666;\n",
              "  }\n",
              "\n",
              "  .colab-df-quickchart {\n",
              "    background-color: var(--bg-color);\n",
              "    border: none;\n",
              "    border-radius: 50%;\n",
              "    cursor: pointer;\n",
              "    display: none;\n",
              "    fill: var(--fill-color);\n",
              "    height: 32px;\n",
              "    padding: 0;\n",
              "    width: 32px;\n",
              "  }\n",
              "\n",
              "  .colab-df-quickchart:hover {\n",
              "    background-color: var(--hover-bg-color);\n",
              "    box-shadow: 0 1px 2px rgba(60, 64, 67, 0.3), 0 1px 3px 1px rgba(60, 64, 67, 0.15);\n",
              "    fill: var(--button-hover-fill-color);\n",
              "  }\n",
              "\n",
              "  .colab-df-quickchart-complete:disabled,\n",
              "  .colab-df-quickchart-complete:disabled:hover {\n",
              "    background-color: var(--disabled-bg-color);\n",
              "    fill: var(--disabled-fill-color);\n",
              "    box-shadow: none;\n",
              "  }\n",
              "\n",
              "  .colab-df-spinner {\n",
              "    border: 2px solid var(--fill-color);\n",
              "    border-color: transparent;\n",
              "    border-bottom-color: var(--fill-color);\n",
              "    animation:\n",
              "      spin 1s steps(1) infinite;\n",
              "  }\n",
              "\n",
              "  @keyframes spin {\n",
              "    0% {\n",
              "      border-color: transparent;\n",
              "      border-bottom-color: var(--fill-color);\n",
              "      border-left-color: var(--fill-color);\n",
              "    }\n",
              "    20% {\n",
              "      border-color: transparent;\n",
              "      border-left-color: var(--fill-color);\n",
              "      border-top-color: var(--fill-color);\n",
              "    }\n",
              "    30% {\n",
              "      border-color: transparent;\n",
              "      border-left-color: var(--fill-color);\n",
              "      border-top-color: var(--fill-color);\n",
              "      border-right-color: var(--fill-color);\n",
              "    }\n",
              "    40% {\n",
              "      border-color: transparent;\n",
              "      border-right-color: var(--fill-color);\n",
              "      border-top-color: var(--fill-color);\n",
              "    }\n",
              "    60% {\n",
              "      border-color: transparent;\n",
              "      border-right-color: var(--fill-color);\n",
              "    }\n",
              "    80% {\n",
              "      border-color: transparent;\n",
              "      border-right-color: var(--fill-color);\n",
              "      border-bottom-color: var(--fill-color);\n",
              "    }\n",
              "    90% {\n",
              "      border-color: transparent;\n",
              "      border-bottom-color: var(--fill-color);\n",
              "    }\n",
              "  }\n",
              "</style>\n",
              "\n",
              "  <script>\n",
              "    async function quickchart(key) {\n",
              "      const quickchartButtonEl =\n",
              "        document.querySelector('#' + key + ' button');\n",
              "      quickchartButtonEl.disabled = true;  // To prevent multiple clicks.\n",
              "      quickchartButtonEl.classList.add('colab-df-spinner');\n",
              "      try {\n",
              "        const charts = await google.colab.kernel.invokeFunction(\n",
              "            'suggestCharts', [key], {});\n",
              "      } catch (error) {\n",
              "        console.error('Error during call to suggestCharts:', error);\n",
              "      }\n",
              "      quickchartButtonEl.classList.remove('colab-df-spinner');\n",
              "      quickchartButtonEl.classList.add('colab-df-quickchart-complete');\n",
              "    }\n",
              "    (() => {\n",
              "      let quickchartButtonEl =\n",
              "        document.querySelector('#df-fb865622-dfe8-4744-8a91-ba4a1bccf078 button');\n",
              "      quickchartButtonEl.style.display =\n",
              "        google.colab.kernel.accessAllowed ? 'block' : 'none';\n",
              "    })();\n",
              "  </script>\n",
              "</div>\n",
              "\n",
              "  <div id=\"id_2cb210cc-53dd-4b6d-ae23-68c9baad3053\">\n",
              "    <style>\n",
              "      .colab-df-generate {\n",
              "        background-color: #E8F0FE;\n",
              "        border: none;\n",
              "        border-radius: 50%;\n",
              "        cursor: pointer;\n",
              "        display: none;\n",
              "        fill: #1967D2;\n",
              "        height: 32px;\n",
              "        padding: 0 0 0 0;\n",
              "        width: 32px;\n",
              "      }\n",
              "\n",
              "      .colab-df-generate:hover {\n",
              "        background-color: #E2EBFA;\n",
              "        box-shadow: 0px 1px 2px rgba(60, 64, 67, 0.3), 0px 1px 3px 1px rgba(60, 64, 67, 0.15);\n",
              "        fill: #174EA6;\n",
              "      }\n",
              "\n",
              "      [theme=dark] .colab-df-generate {\n",
              "        background-color: #3B4455;\n",
              "        fill: #D2E3FC;\n",
              "      }\n",
              "\n",
              "      [theme=dark] .colab-df-generate:hover {\n",
              "        background-color: #434B5C;\n",
              "        box-shadow: 0px 1px 3px 1px rgba(0, 0, 0, 0.15);\n",
              "        filter: drop-shadow(0px 1px 2px rgba(0, 0, 0, 0.3));\n",
              "        fill: #FFFFFF;\n",
              "      }\n",
              "    </style>\n",
              "    <button class=\"colab-df-generate\" onclick=\"generateWithVariable('XageLimpo')\"\n",
              "            title=\"Generate code using this dataframe.\"\n",
              "            style=\"display:none;\">\n",
              "\n",
              "  <svg xmlns=\"http://www.w3.org/2000/svg\" height=\"24px\"viewBox=\"0 0 24 24\"\n",
              "       width=\"24px\">\n",
              "    <path d=\"M7,19H8.4L18.45,9,17,7.55,7,17.6ZM5,21V16.75L18.45,3.32a2,2,0,0,1,2.83,0l1.4,1.43a1.91,1.91,0,0,1,.58,1.4,1.91,1.91,0,0,1-.58,1.4L9.25,21ZM18.45,9,17,7.55Zm-12,3A5.31,5.31,0,0,0,4.9,8.1,5.31,5.31,0,0,0,1,6.5,5.31,5.31,0,0,0,4.9,4.9,5.31,5.31,0,0,0,6.5,1,5.31,5.31,0,0,0,8.1,4.9,5.31,5.31,0,0,0,12,6.5,5.46,5.46,0,0,0,6.5,12Z\"/>\n",
              "  </svg>\n",
              "    </button>\n",
              "    <script>\n",
              "      (() => {\n",
              "      const buttonEl =\n",
              "        document.querySelector('#id_2cb210cc-53dd-4b6d-ae23-68c9baad3053 button.colab-df-generate');\n",
              "      buttonEl.style.display =\n",
              "        google.colab.kernel.accessAllowed ? 'block' : 'none';\n",
              "\n",
              "      buttonEl.onclick = () => {\n",
              "        google.colab.notebook.generateWithVariable('XageLimpo');\n",
              "      }\n",
              "      })();\n",
              "    </script>\n",
              "  </div>\n",
              "\n",
              "    </div>\n",
              "  </div>\n"
            ]
          },
          "metadata": {},
          "execution_count": 122
        }
      ]
    },
    {
      "cell_type": "code",
      "source": [
        "from sklearn.base import BaseEstimator, TransformerMixin\n",
        "\n",
        "class AtributosDesejados(BaseEstimator, TransformerMixin):\n",
        "  def fit(self, X, y=None):\n",
        "    self.colunasIndesejadas_ = ['PassengerId','Name','Ticket','Cabin']\n",
        "    return self\n",
        "  def transform(self, X, y=None):\n",
        "    return X.drop(self.colunasIndesejadas_, axis=1)\n",
        "\n",
        "SwapNullAge(X)\n",
        "atributosDesejados = AtributosDesejados()\n",
        "Xdrop = atributosDesejados.fit_transform(X)\n",
        "Xdrop.columns"
      ],
      "metadata": {
        "colab": {
          "base_uri": "https://localhost:8080/"
        },
        "id": "SC9IcbMC6huI",
        "outputId": "358050d8-b335-434c-9501-2533c1319493"
      },
      "execution_count": null,
      "outputs": [
        {
          "output_type": "execute_result",
          "data": {
            "text/plain": [
              "Index(['Pclass', 'Sex', 'Age', 'SibSp', 'Parch', 'Fare', 'Embarked'], dtype='object')"
            ]
          },
          "metadata": {},
          "execution_count": 123
        }
      ]
    },
    {
      "cell_type": "code",
      "source": [
        "from sklearn.base import BaseEstimator, TransformerMixin\n",
        "\n",
        "class AtributosNumericos(BaseEstimator, TransformerMixin):\n",
        "  def fit(self, X, y=None):\n",
        "    self.colunasNumericas = X.select_dtypes(include='number').columns\n",
        "    return self\n",
        "  def transform(self, X, y=None):\n",
        "    return X[self.colunasNumericas]\n",
        "\n",
        "atributosNumericos = AtributosNumericos()\n",
        "Xnum = atributosNumericos.fit_transform(Xdrop)\n",
        "Xnum.columns"
      ],
      "metadata": {
        "colab": {
          "base_uri": "https://localhost:8080/"
        },
        "id": "_dz1OVBN3Trl",
        "outputId": "fde45d4e-ef62-478c-a9c3-64c96a7b4505"
      },
      "execution_count": null,
      "outputs": [
        {
          "output_type": "execute_result",
          "data": {
            "text/plain": [
              "Index(['Pclass', 'Age', 'SibSp', 'Parch', 'Fare'], dtype='object')"
            ]
          },
          "metadata": {},
          "execution_count": 124
        }
      ]
    },
    {
      "cell_type": "code",
      "source": [
        "from sklearn.pipeline import Pipeline\n",
        "from sklearn.impute import SimpleImputer\n",
        "from sklearn.preprocessing import StandardScaler\n",
        "\n",
        "pipenum = Pipeline([\n",
        "    ('atributos_numericos', AtributosNumericos()),\n",
        "    ('imputer', SimpleImputer(strategy=\"median\")),\n",
        "    ('scaler', StandardScaler())\n",
        "])\n",
        "\n",
        "XnumLimpo = pipenum.fit_transform(Xdrop)\n",
        "XnumLimpo"
      ],
      "metadata": {
        "colab": {
          "base_uri": "https://localhost:8080/"
        },
        "id": "X9T7Ft3D4GQe",
        "outputId": "6246c44d-8174-4e2e-fea9-19f657c6eb9f"
      },
      "execution_count": null,
      "outputs": [
        {
          "output_type": "execute_result",
          "data": {
            "text/plain": [
              "array([[ 0.82737724, -0.55136635,  0.43279337, -0.47367361, -0.50244517],\n",
              "       [-1.56610693,  0.65402951,  0.43279337, -0.47367361,  0.78684529],\n",
              "       [ 0.82737724, -0.25001739, -0.4745452 , -0.47367361, -0.48885426],\n",
              "       ...,\n",
              "       [ 0.82737724, -0.57020066,  0.43279337,  2.00893337, -0.17626324],\n",
              "       [-1.56610693, -0.25001739, -0.4745452 , -0.47367361, -0.04438104],\n",
              "       [ 0.82737724,  0.20200606, -0.4745452 , -0.47367361, -0.49237783]])"
            ]
          },
          "metadata": {},
          "execution_count": 125
        }
      ]
    },
    {
      "cell_type": "code",
      "source": [
        "from sklearn.base import BaseEstimator, TransformerMixin\n",
        "\n",
        "class AtributosCategoricos(BaseEstimator, TransformerMixin):\n",
        "  def fit(self, X, y=None):\n",
        "    self.colunasCategoricas = X.select_dtypes(include='object').columns\n",
        "    return self\n",
        "  def transform(self, X, y=None):\n",
        "    return X[self.colunasCategoricas]\n",
        "\n",
        "atributosCategoricos = AtributosCategoricos()\n",
        "Xcat = atributosCategoricos.fit_transform(Xdrop)\n",
        "Xcat.columns"
      ],
      "metadata": {
        "colab": {
          "base_uri": "https://localhost:8080/"
        },
        "id": "7M7uMbIF4_0F",
        "outputId": "6c07d2a9-9275-4511-ee8f-6fddc9165753"
      },
      "execution_count": null,
      "outputs": [
        {
          "output_type": "execute_result",
          "data": {
            "text/plain": [
              "Index(['Sex', 'Embarked'], dtype='object')"
            ]
          },
          "metadata": {},
          "execution_count": 126
        }
      ]
    },
    {
      "cell_type": "code",
      "source": [
        "from sklearn.pipeline import Pipeline\n",
        "from sklearn.impute import SimpleImputer\n",
        "from sklearn.preprocessing import OneHotEncoder\n",
        "\n",
        "pipecat = Pipeline([\n",
        "    ('atributos_categoricos', AtributosCategoricos()),\n",
        "    ('imputer', SimpleImputer(strategy='most_frequent')),\n",
        "    ('encoder', OneHotEncoder())\n",
        "])\n",
        "\n",
        "XcatLimpo = pipecat.fit_transform(Xdrop)\n",
        "XcatLimpo"
      ],
      "metadata": {
        "colab": {
          "base_uri": "https://localhost:8080/"
        },
        "id": "7Xk1HaHA5xEg",
        "outputId": "ded58620-5fa7-432c-8d8e-9025e76559d0"
      },
      "execution_count": null,
      "outputs": [
        {
          "output_type": "execute_result",
          "data": {
            "text/plain": [
              "<891x5 sparse matrix of type '<class 'numpy.float64'>'\n",
              "\twith 1782 stored elements in Compressed Sparse Row format>"
            ]
          },
          "metadata": {},
          "execution_count": 127
        }
      ]
    },
    {
      "cell_type": "code",
      "source": [
        "from sklearn.pipeline import FeatureUnion\n",
        "\n",
        "unecaracteristicas = FeatureUnion([\n",
        "    ('pipenum', pipenum),\n",
        "    ('pipecat', pipecat)\n",
        "])\n",
        "\n",
        "Xtratado = unecaracteristicas.fit_transform(Xdrop)\n",
        "Xtratado"
      ],
      "metadata": {
        "colab": {
          "base_uri": "https://localhost:8080/"
        },
        "id": "cdHKkCti6hMG",
        "outputId": "d03d4433-9c9a-407f-b0a7-81a308db341b"
      },
      "execution_count": null,
      "outputs": [
        {
          "output_type": "execute_result",
          "data": {
            "text/plain": [
              "<891x10 sparse matrix of type '<class 'numpy.float64'>'\n",
              "\twith 6237 stored elements in Compressed Sparse Row format>"
            ]
          },
          "metadata": {},
          "execution_count": 128
        }
      ]
    },
    {
      "cell_type": "code",
      "source": [
        "from sklearn.pipeline import Pipeline\n",
        "\n",
        "preproc = Pipeline([\n",
        "    ('atributos_desejados', AtributosDesejados()),\n",
        "    ('unecaracteristicas', unecaracteristicas)\n",
        "])\n",
        "\n",
        "Xtratado = preproc.fit_transform(X)\n",
        "Xtratado"
      ],
      "metadata": {
        "colab": {
          "base_uri": "https://localhost:8080/"
        },
        "id": "RQd6EuLt7CTS",
        "outputId": "1bbba864-fb04-4d16-b61c-be2179a21fb0"
      },
      "execution_count": null,
      "outputs": [
        {
          "output_type": "execute_result",
          "data": {
            "text/plain": [
              "<891x10 sparse matrix of type '<class 'numpy.float64'>'\n",
              "\twith 6237 stored elements in Compressed Sparse Row format>"
            ]
          },
          "metadata": {},
          "execution_count": 129
        }
      ]
    },
    {
      "cell_type": "code",
      "source": [
        "from sklearn.tree import DecisionTreeClassifier\n",
        "\n",
        "pipetotal = Pipeline([\n",
        "    ('preproc', preproc),\n",
        "    ('arvore', DecisionTreeClassifier())\n",
        "])\n"
      ],
      "metadata": {
        "id": "5KZPjTLr7nX6"
      },
      "execution_count": null,
      "outputs": []
    },
    {
      "cell_type": "code",
      "source": [
        "from sklearn.metrics import accuracy_score\n",
        "\n",
        "pipetotal.fit(X, y)\n",
        "ypred = pipetotal.predict(X)\n",
        "accuracy_score(y, ypred)"
      ],
      "metadata": {
        "colab": {
          "base_uri": "https://localhost:8080/"
        },
        "id": "TOlBljmg72nS",
        "outputId": "d423a1b4-279e-45a4-f9a1-b9069790a065"
      },
      "execution_count": null,
      "outputs": [
        {
          "output_type": "execute_result",
          "data": {
            "text/plain": [
              "0.9820426487093153"
            ]
          },
          "metadata": {},
          "execution_count": 131
        }
      ]
    },
    {
      "cell_type": "code",
      "source": [
        "import numpy as np\n",
        "from sklearn.model_selection import cross_validate\n",
        "\n",
        "scores = cross_validate(pipetotal, X, y)\n",
        "scores, np.mean(scores['test_score'])"
      ],
      "metadata": {
        "colab": {
          "base_uri": "https://localhost:8080/"
        },
        "id": "oFKb96yr8Mfk",
        "outputId": "5ca7cb80-4567-4239-824b-d4db7b9cc8fe"
      },
      "execution_count": null,
      "outputs": [
        {
          "output_type": "execute_result",
          "data": {
            "text/plain": [
              "({'fit_time': array([0.02203655, 0.01403403, 0.01481652, 0.01308751, 0.01478291]),\n",
              "  'score_time': array([0.00543165, 0.0053668 , 0.00536823, 0.0052824 , 0.00535035]),\n",
              "  'test_score': array([0.74301676, 0.78651685, 0.82022472, 0.75842697, 0.80337079])},\n",
              " 0.7823112171238467)"
            ]
          },
          "metadata": {},
          "execution_count": 133
        }
      ]
    },
    {
      "cell_type": "code",
      "source": [
        "pipetotal.fit(X, y)\n",
        "ypred = pipetotal.predict(test)\n",
        "ypred"
      ],
      "metadata": {
        "colab": {
          "base_uri": "https://localhost:8080/"
        },
        "id": "JyKuYxbB8vxB",
        "outputId": "b4f8c52d-4303-4563-b206-d45af8d923f5"
      },
      "execution_count": null,
      "outputs": [
        {
          "output_type": "execute_result",
          "data": {
            "text/plain": [
              "array([0, 0, 1, 1, 0, 0, 0, 0, 1, 0, 0, 0, 1, 0, 1, 1, 0, 1, 1, 0, 1, 1,\n",
              "       1, 1, 1, 0, 1, 1, 1, 0, 0, 0, 1, 0, 1, 1, 0, 0, 0, 1, 1, 1, 0, 1,\n",
              "       1, 0, 1, 0, 1, 1, 0, 0, 1, 0, 1, 0, 0, 0, 0, 1, 0, 0, 0, 1, 1, 1,\n",
              "       1, 0, 1, 1, 1, 0, 0, 0, 1, 1, 0, 0, 0, 1, 1, 0, 0, 0, 0, 0, 1, 1,\n",
              "       1, 1, 0, 0, 0, 0, 1, 0, 1, 1, 0, 0, 1, 0, 0, 0, 1, 0, 0, 0, 0, 0,\n",
              "       0, 1, 1, 0, 1, 0, 0, 1, 0, 1, 1, 0, 1, 0, 0, 0, 0, 0, 0, 0, 1, 1,\n",
              "       0, 0, 0, 0, 0, 0, 0, 0, 0, 1, 0, 0, 0, 0, 0, 0, 1, 0, 1, 0, 0, 1,\n",
              "       0, 0, 1, 0, 0, 1, 1, 0, 1, 0, 0, 0, 0, 0, 1, 0, 0, 0, 0, 0, 0, 1,\n",
              "       1, 1, 1, 1, 0, 1, 1, 0, 1, 0, 1, 1, 0, 0, 0, 1, 1, 1, 1, 1, 1, 0,\n",
              "       0, 0, 0, 1, 0, 1, 0, 1, 0, 0, 1, 0, 0, 0, 0, 1, 0, 0, 1, 1, 1, 0,\n",
              "       1, 0, 1, 1, 1, 1, 0, 1, 0, 0, 0, 1, 0, 0, 1, 0, 0, 1, 1, 1, 1, 1,\n",
              "       0, 0, 0, 0, 1, 0, 1, 1, 1, 0, 0, 0, 0, 0, 0, 0, 1, 0, 0, 0, 1, 1,\n",
              "       0, 0, 0, 0, 0, 0, 0, 0, 1, 0, 0, 1, 0, 0, 0, 0, 0, 1, 1, 0, 1, 0,\n",
              "       0, 0, 0, 0, 0, 0, 0, 0, 0, 0, 1, 0, 0, 0, 0, 0, 0, 0, 1, 1, 0, 1,\n",
              "       1, 0, 0, 1, 0, 0, 1, 1, 0, 0, 0, 0, 0, 0, 0, 1, 1, 0, 1, 0, 0, 0,\n",
              "       1, 0, 0, 0, 0, 0, 1, 0, 0, 0, 0, 0, 0, 1, 0, 1, 0, 0, 0, 1, 1, 0,\n",
              "       0, 0, 1, 0, 1, 0, 0, 0, 0, 1, 1, 1, 1, 1, 0, 1, 1, 1, 0, 1, 0, 0,\n",
              "       1, 1, 0, 0, 0, 0, 0, 0, 1, 0, 0, 1, 0, 0, 0, 0, 0, 1, 0, 0, 0, 1,\n",
              "       0, 1, 0, 0, 1, 0, 1, 0, 0, 1, 0, 0, 1, 1, 1, 1, 0, 0, 1, 0, 0, 0])"
            ]
          },
          "metadata": {},
          "execution_count": 134
        }
      ]
    },
    {
      "cell_type": "code",
      "source": [
        "submission = pd.read_csv('gender_submission.csv')\n",
        "submission['Survived'] = ypred\n",
        "submission.to_csv('tree_submission.csv', index=False)"
      ],
      "metadata": {
        "id": "1E9gSLKZ9Zwz"
      },
      "execution_count": null,
      "outputs": []
    },
    {
      "cell_type": "code",
      "source": [
        "from sklearn.model_selection import GridSearchCV\n",
        "\n",
        "parametros = {\n",
        "    'arvore__max_depth': [None] + list(range(1,10,2)),\n",
        "    'preproc__unecaracteristicas__pipenum__imputer__strategy': ['mean', 'median', 'most_frequent']\n",
        "}\n",
        "\n",
        "modelo = GridSearchCV(pipetotal, param_grid=parametros)\n",
        "\n",
        "scores = cross_validate(modelo, X, y)\n",
        "scores, np.mean(scores['test_score'])"
      ],
      "metadata": {
        "colab": {
          "base_uri": "https://localhost:8080/"
        },
        "id": "DgcLdpL69_vZ",
        "outputId": "ebe8408e-4068-406a-bc48-c891a8685b82"
      },
      "execution_count": null,
      "outputs": [
        {
          "output_type": "execute_result",
          "data": {
            "text/plain": [
              "({'fit_time': array([1.56909847, 1.58764887, 1.62281322, 1.71756482, 1.93948364]),\n",
              "  'score_time': array([0.00535583, 0.00454426, 0.00456166, 0.00572848, 0.0062027 ]),\n",
              "  'test_score': array([0.81564246, 0.8258427 , 0.81460674, 0.78089888, 0.84831461])},\n",
              " 0.8170610758897746)"
            ]
          },
          "metadata": {},
          "execution_count": 136
        }
      ]
    },
    {
      "cell_type": "code",
      "source": [
        "modelo.fit(X, y)\n",
        "modelo.best_estimator_"
      ],
      "metadata": {
        "colab": {
          "base_uri": "https://localhost:8080/",
          "height": 316
        },
        "id": "gvTtEz2GBQJ5",
        "outputId": "05ff2b0d-29d5-4684-c9a9-4b6bec3fc3ce"
      },
      "execution_count": null,
      "outputs": [
        {
          "output_type": "execute_result",
          "data": {
            "text/plain": [
              "Pipeline(steps=[('preproc',\n",
              "                 Pipeline(steps=[('atributos_desejados', AtributosDesejados()),\n",
              "                                 ('unecaracteristicas',\n",
              "                                  FeatureUnion(transformer_list=[('pipenum',\n",
              "                                                                  Pipeline(steps=[('atributos_numericos',\n",
              "                                                                                   AtributosNumericos()),\n",
              "                                                                                  ('imputer',\n",
              "                                                                                   SimpleImputer(strategy='median')),\n",
              "                                                                                  ('scaler',\n",
              "                                                                                   StandardScaler())])),\n",
              "                                                                 ('pipecat',\n",
              "                                                                  Pipeline(steps=[('atributos_categoricos',\n",
              "                                                                                   AtributosCategoricos()),\n",
              "                                                                                  ('imputer',\n",
              "                                                                                   SimpleImputer(strategy='most_frequent')),\n",
              "                                                                                  ('encoder',\n",
              "                                                                                   OneHotEncoder())]))]))])),\n",
              "                ('arvore', DecisionTreeClassifier(max_depth=5))])"
            ],
            "text/html": [
              "<style>#sk-container-id-2 {color: black;background-color: white;}#sk-container-id-2 pre{padding: 0;}#sk-container-id-2 div.sk-toggleable {background-color: white;}#sk-container-id-2 label.sk-toggleable__label {cursor: pointer;display: block;width: 100%;margin-bottom: 0;padding: 0.3em;box-sizing: border-box;text-align: center;}#sk-container-id-2 label.sk-toggleable__label-arrow:before {content: \"▸\";float: left;margin-right: 0.25em;color: #696969;}#sk-container-id-2 label.sk-toggleable__label-arrow:hover:before {color: black;}#sk-container-id-2 div.sk-estimator:hover label.sk-toggleable__label-arrow:before {color: black;}#sk-container-id-2 div.sk-toggleable__content {max-height: 0;max-width: 0;overflow: hidden;text-align: left;background-color: #f0f8ff;}#sk-container-id-2 div.sk-toggleable__content pre {margin: 0.2em;color: black;border-radius: 0.25em;background-color: #f0f8ff;}#sk-container-id-2 input.sk-toggleable__control:checked~div.sk-toggleable__content {max-height: 200px;max-width: 100%;overflow: auto;}#sk-container-id-2 input.sk-toggleable__control:checked~label.sk-toggleable__label-arrow:before {content: \"▾\";}#sk-container-id-2 div.sk-estimator input.sk-toggleable__control:checked~label.sk-toggleable__label {background-color: #d4ebff;}#sk-container-id-2 div.sk-label input.sk-toggleable__control:checked~label.sk-toggleable__label {background-color: #d4ebff;}#sk-container-id-2 input.sk-hidden--visually {border: 0;clip: rect(1px 1px 1px 1px);clip: rect(1px, 1px, 1px, 1px);height: 1px;margin: -1px;overflow: hidden;padding: 0;position: absolute;width: 1px;}#sk-container-id-2 div.sk-estimator {font-family: monospace;background-color: #f0f8ff;border: 1px dotted black;border-radius: 0.25em;box-sizing: border-box;margin-bottom: 0.5em;}#sk-container-id-2 div.sk-estimator:hover {background-color: #d4ebff;}#sk-container-id-2 div.sk-parallel-item::after {content: \"\";width: 100%;border-bottom: 1px solid gray;flex-grow: 1;}#sk-container-id-2 div.sk-label:hover label.sk-toggleable__label {background-color: #d4ebff;}#sk-container-id-2 div.sk-serial::before {content: \"\";position: absolute;border-left: 1px solid gray;box-sizing: border-box;top: 0;bottom: 0;left: 50%;z-index: 0;}#sk-container-id-2 div.sk-serial {display: flex;flex-direction: column;align-items: center;background-color: white;padding-right: 0.2em;padding-left: 0.2em;position: relative;}#sk-container-id-2 div.sk-item {position: relative;z-index: 1;}#sk-container-id-2 div.sk-parallel {display: flex;align-items: stretch;justify-content: center;background-color: white;position: relative;}#sk-container-id-2 div.sk-item::before, #sk-container-id-2 div.sk-parallel-item::before {content: \"\";position: absolute;border-left: 1px solid gray;box-sizing: border-box;top: 0;bottom: 0;left: 50%;z-index: -1;}#sk-container-id-2 div.sk-parallel-item {display: flex;flex-direction: column;z-index: 1;position: relative;background-color: white;}#sk-container-id-2 div.sk-parallel-item:first-child::after {align-self: flex-end;width: 50%;}#sk-container-id-2 div.sk-parallel-item:last-child::after {align-self: flex-start;width: 50%;}#sk-container-id-2 div.sk-parallel-item:only-child::after {width: 0;}#sk-container-id-2 div.sk-dashed-wrapped {border: 1px dashed gray;margin: 0 0.4em 0.5em 0.4em;box-sizing: border-box;padding-bottom: 0.4em;background-color: white;}#sk-container-id-2 div.sk-label label {font-family: monospace;font-weight: bold;display: inline-block;line-height: 1.2em;}#sk-container-id-2 div.sk-label-container {text-align: center;}#sk-container-id-2 div.sk-container {/* jupyter's `normalize.less` sets `[hidden] { display: none; }` but bootstrap.min.css set `[hidden] { display: none !important; }` so we also need the `!important` here to be able to override the default hidden behavior on the sphinx rendered scikit-learn.org. See: https://github.com/scikit-learn/scikit-learn/issues/21755 */display: inline-block !important;position: relative;}#sk-container-id-2 div.sk-text-repr-fallback {display: none;}</style><div id=\"sk-container-id-2\" class=\"sk-top-container\"><div class=\"sk-text-repr-fallback\"><pre>Pipeline(steps=[(&#x27;preproc&#x27;,\n",
              "                 Pipeline(steps=[(&#x27;atributos_desejados&#x27;, AtributosDesejados()),\n",
              "                                 (&#x27;unecaracteristicas&#x27;,\n",
              "                                  FeatureUnion(transformer_list=[(&#x27;pipenum&#x27;,\n",
              "                                                                  Pipeline(steps=[(&#x27;atributos_numericos&#x27;,\n",
              "                                                                                   AtributosNumericos()),\n",
              "                                                                                  (&#x27;imputer&#x27;,\n",
              "                                                                                   SimpleImputer(strategy=&#x27;median&#x27;)),\n",
              "                                                                                  (&#x27;scaler&#x27;,\n",
              "                                                                                   StandardScaler())])),\n",
              "                                                                 (&#x27;pipecat&#x27;,\n",
              "                                                                  Pipeline(steps=[(&#x27;atributos_categoricos&#x27;,\n",
              "                                                                                   AtributosCategoricos()),\n",
              "                                                                                  (&#x27;imputer&#x27;,\n",
              "                                                                                   SimpleImputer(strategy=&#x27;most_frequent&#x27;)),\n",
              "                                                                                  (&#x27;encoder&#x27;,\n",
              "                                                                                   OneHotEncoder())]))]))])),\n",
              "                (&#x27;arvore&#x27;, DecisionTreeClassifier(max_depth=5))])</pre><b>In a Jupyter environment, please rerun this cell to show the HTML representation or trust the notebook. <br />On GitHub, the HTML representation is unable to render, please try loading this page with nbviewer.org.</b></div><div class=\"sk-container\" hidden><div class=\"sk-item sk-dashed-wrapped\"><div class=\"sk-label-container\"><div class=\"sk-label sk-toggleable\"><input class=\"sk-toggleable__control sk-hidden--visually\" id=\"sk-estimator-id-12\" type=\"checkbox\" ><label for=\"sk-estimator-id-12\" class=\"sk-toggleable__label sk-toggleable__label-arrow\">Pipeline</label><div class=\"sk-toggleable__content\"><pre>Pipeline(steps=[(&#x27;preproc&#x27;,\n",
              "                 Pipeline(steps=[(&#x27;atributos_desejados&#x27;, AtributosDesejados()),\n",
              "                                 (&#x27;unecaracteristicas&#x27;,\n",
              "                                  FeatureUnion(transformer_list=[(&#x27;pipenum&#x27;,\n",
              "                                                                  Pipeline(steps=[(&#x27;atributos_numericos&#x27;,\n",
              "                                                                                   AtributosNumericos()),\n",
              "                                                                                  (&#x27;imputer&#x27;,\n",
              "                                                                                   SimpleImputer(strategy=&#x27;median&#x27;)),\n",
              "                                                                                  (&#x27;scaler&#x27;,\n",
              "                                                                                   StandardScaler())])),\n",
              "                                                                 (&#x27;pipecat&#x27;,\n",
              "                                                                  Pipeline(steps=[(&#x27;atributos_categoricos&#x27;,\n",
              "                                                                                   AtributosCategoricos()),\n",
              "                                                                                  (&#x27;imputer&#x27;,\n",
              "                                                                                   SimpleImputer(strategy=&#x27;most_frequent&#x27;)),\n",
              "                                                                                  (&#x27;encoder&#x27;,\n",
              "                                                                                   OneHotEncoder())]))]))])),\n",
              "                (&#x27;arvore&#x27;, DecisionTreeClassifier(max_depth=5))])</pre></div></div></div><div class=\"sk-serial\"><div class=\"sk-item\"><div class=\"sk-label-container\"><div class=\"sk-label sk-toggleable\"><input class=\"sk-toggleable__control sk-hidden--visually\" id=\"sk-estimator-id-13\" type=\"checkbox\" ><label for=\"sk-estimator-id-13\" class=\"sk-toggleable__label sk-toggleable__label-arrow\">preproc: Pipeline</label><div class=\"sk-toggleable__content\"><pre>Pipeline(steps=[(&#x27;atributos_desejados&#x27;, AtributosDesejados()),\n",
              "                (&#x27;unecaracteristicas&#x27;,\n",
              "                 FeatureUnion(transformer_list=[(&#x27;pipenum&#x27;,\n",
              "                                                 Pipeline(steps=[(&#x27;atributos_numericos&#x27;,\n",
              "                                                                  AtributosNumericos()),\n",
              "                                                                 (&#x27;imputer&#x27;,\n",
              "                                                                  SimpleImputer(strategy=&#x27;median&#x27;)),\n",
              "                                                                 (&#x27;scaler&#x27;,\n",
              "                                                                  StandardScaler())])),\n",
              "                                                (&#x27;pipecat&#x27;,\n",
              "                                                 Pipeline(steps=[(&#x27;atributos_categoricos&#x27;,\n",
              "                                                                  AtributosCategoricos()),\n",
              "                                                                 (&#x27;imputer&#x27;,\n",
              "                                                                  SimpleImputer(strategy=&#x27;most_frequent&#x27;)),\n",
              "                                                                 (&#x27;encoder&#x27;,\n",
              "                                                                  OneHotEncoder())]))]))])</pre></div></div></div><div class=\"sk-serial\"><div class=\"sk-item\"><div class=\"sk-estimator sk-toggleable\"><input class=\"sk-toggleable__control sk-hidden--visually\" id=\"sk-estimator-id-14\" type=\"checkbox\" ><label for=\"sk-estimator-id-14\" class=\"sk-toggleable__label sk-toggleable__label-arrow\">AtributosDesejados</label><div class=\"sk-toggleable__content\"><pre>AtributosDesejados()</pre></div></div></div><div class=\"sk-item sk-dashed-wrapped\"><div class=\"sk-label-container\"><div class=\"sk-label sk-toggleable\"><input class=\"sk-toggleable__control sk-hidden--visually\" id=\"sk-estimator-id-15\" type=\"checkbox\" ><label for=\"sk-estimator-id-15\" class=\"sk-toggleable__label sk-toggleable__label-arrow\">unecaracteristicas: FeatureUnion</label><div class=\"sk-toggleable__content\"><pre>FeatureUnion(transformer_list=[(&#x27;pipenum&#x27;,\n",
              "                                Pipeline(steps=[(&#x27;atributos_numericos&#x27;,\n",
              "                                                 AtributosNumericos()),\n",
              "                                                (&#x27;imputer&#x27;,\n",
              "                                                 SimpleImputer(strategy=&#x27;median&#x27;)),\n",
              "                                                (&#x27;scaler&#x27;, StandardScaler())])),\n",
              "                               (&#x27;pipecat&#x27;,\n",
              "                                Pipeline(steps=[(&#x27;atributos_categoricos&#x27;,\n",
              "                                                 AtributosCategoricos()),\n",
              "                                                (&#x27;imputer&#x27;,\n",
              "                                                 SimpleImputer(strategy=&#x27;most_frequent&#x27;)),\n",
              "                                                (&#x27;encoder&#x27;,\n",
              "                                                 OneHotEncoder())]))])</pre></div></div></div><div class=\"sk-parallel\"><div class=\"sk-parallel-item\"><div class=\"sk-item\"><div class=\"sk-label-container\"><div class=\"sk-label sk-toggleable\"><label>pipenum</label></div></div><div class=\"sk-serial\"><div class=\"sk-item\"><div class=\"sk-serial\"><div class=\"sk-item\"><div class=\"sk-estimator sk-toggleable\"><input class=\"sk-toggleable__control sk-hidden--visually\" id=\"sk-estimator-id-16\" type=\"checkbox\" ><label for=\"sk-estimator-id-16\" class=\"sk-toggleable__label sk-toggleable__label-arrow\">AtributosNumericos</label><div class=\"sk-toggleable__content\"><pre>AtributosNumericos()</pre></div></div></div><div class=\"sk-item\"><div class=\"sk-estimator sk-toggleable\"><input class=\"sk-toggleable__control sk-hidden--visually\" id=\"sk-estimator-id-17\" type=\"checkbox\" ><label for=\"sk-estimator-id-17\" class=\"sk-toggleable__label sk-toggleable__label-arrow\">SimpleImputer</label><div class=\"sk-toggleable__content\"><pre>SimpleImputer(strategy=&#x27;median&#x27;)</pre></div></div></div><div class=\"sk-item\"><div class=\"sk-estimator sk-toggleable\"><input class=\"sk-toggleable__control sk-hidden--visually\" id=\"sk-estimator-id-18\" type=\"checkbox\" ><label for=\"sk-estimator-id-18\" class=\"sk-toggleable__label sk-toggleable__label-arrow\">StandardScaler</label><div class=\"sk-toggleable__content\"><pre>StandardScaler()</pre></div></div></div></div></div></div></div></div><div class=\"sk-parallel-item\"><div class=\"sk-item\"><div class=\"sk-label-container\"><div class=\"sk-label sk-toggleable\"><label>pipecat</label></div></div><div class=\"sk-serial\"><div class=\"sk-item\"><div class=\"sk-serial\"><div class=\"sk-item\"><div class=\"sk-estimator sk-toggleable\"><input class=\"sk-toggleable__control sk-hidden--visually\" id=\"sk-estimator-id-19\" type=\"checkbox\" ><label for=\"sk-estimator-id-19\" class=\"sk-toggleable__label sk-toggleable__label-arrow\">AtributosCategoricos</label><div class=\"sk-toggleable__content\"><pre>AtributosCategoricos()</pre></div></div></div><div class=\"sk-item\"><div class=\"sk-estimator sk-toggleable\"><input class=\"sk-toggleable__control sk-hidden--visually\" id=\"sk-estimator-id-20\" type=\"checkbox\" ><label for=\"sk-estimator-id-20\" class=\"sk-toggleable__label sk-toggleable__label-arrow\">SimpleImputer</label><div class=\"sk-toggleable__content\"><pre>SimpleImputer(strategy=&#x27;most_frequent&#x27;)</pre></div></div></div><div class=\"sk-item\"><div class=\"sk-estimator sk-toggleable\"><input class=\"sk-toggleable__control sk-hidden--visually\" id=\"sk-estimator-id-21\" type=\"checkbox\" ><label for=\"sk-estimator-id-21\" class=\"sk-toggleable__label sk-toggleable__label-arrow\">OneHotEncoder</label><div class=\"sk-toggleable__content\"><pre>OneHotEncoder()</pre></div></div></div></div></div></div></div></div></div></div></div></div><div class=\"sk-item\"><div class=\"sk-estimator sk-toggleable\"><input class=\"sk-toggleable__control sk-hidden--visually\" id=\"sk-estimator-id-22\" type=\"checkbox\" ><label for=\"sk-estimator-id-22\" class=\"sk-toggleable__label sk-toggleable__label-arrow\">DecisionTreeClassifier</label><div class=\"sk-toggleable__content\"><pre>DecisionTreeClassifier(max_depth=5)</pre></div></div></div></div></div></div></div>"
            ]
          },
          "metadata": {},
          "execution_count": 137
        }
      ]
    },
    {
      "cell_type": "code",
      "source": [
        "submission = pd.read_csv('gender_submission.csv')\n",
        "ypred = modelo.predict(test)\n",
        "submission['Survived'] = ypred\n",
        "submission.to_csv('tree_submission.csv', index=False)"
      ],
      "metadata": {
        "id": "k1HU9M1oBe0H"
      },
      "execution_count": null,
      "outputs": []
    },
    {
      "cell_type": "markdown",
      "source": [
        "![image.png](data:image/png;base64,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)"
      ],
      "metadata": {
        "id": "xtI59DqiBvuw"
      }
    },
    {
      "cell_type": "code",
      "source": [
        "score = 0.77272\n",
        "(score-0.65)*125"
      ],
      "metadata": {
        "colab": {
          "base_uri": "https://localhost:8080/"
        },
        "id": "ZT9wi4wTDaI_",
        "outputId": "0d5c8a6b-9908-4d07-9094-3e9af1605225"
      },
      "execution_count": null,
      "outputs": [
        {
          "output_type": "execute_result",
          "data": {
            "text/plain": [
              "15.339999999999993"
            ]
          },
          "metadata": {},
          "execution_count": 139
        }
      ]
    }
  ]
}