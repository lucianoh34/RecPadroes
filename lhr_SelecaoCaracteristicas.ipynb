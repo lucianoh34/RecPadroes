{
  "cells": [
    {
      "cell_type": "markdown",
      "metadata": {
        "id": "view-in-github",
        "colab_type": "text"
      },
      "source": [
        "<a href=\"https://colab.research.google.com/github/lucianoh34/RecPadroes/blob/main/lhr_SelecaoCaracteristicas.ipynb\" target=\"_parent\"><img src=\"https://colab.research.google.com/assets/colab-badge.svg\" alt=\"Open In Colab\"/></a>"
      ]
    },
    {
      "cell_type": "markdown",
      "source": [
        "Material do Professor"
      ],
      "metadata": {
        "id": "SvxY5ftK841a"
      }
    },
    {
      "cell_type": "code",
      "source": [
        "from sklearn.datasets import fetch_covtype\n",
        "X, y = fetch_covtype(return_X_y=True)\n",
        "X.shape, y.shape"
      ],
      "metadata": {
        "colab": {
          "base_uri": "https://localhost:8080/"
        },
        "id": "tLOXXB5ZnhFr",
        "outputId": "a7a67a50-1d12-459b-a465-b8e88f841bbd"
      },
      "execution_count": 28,
      "outputs": [
        {
          "output_type": "execute_result",
          "data": {
            "text/plain": [
              "((581012, 54), (581012,))"
            ]
          },
          "metadata": {},
          "execution_count": 28
        }
      ]
    },
    {
      "cell_type": "code",
      "source": [
        "from sklearn.model_selection import cross_validate\n",
        "from sklearn.linear_model import RidgeClassifier\n",
        "import numpy as np\n",
        "\n",
        "modelo = RidgeClassifier()\n",
        "scores = cross_validate(modelo, X, y)\n",
        "scores, np.mean(scores['test_score'])"
      ],
      "metadata": {
        "colab": {
          "base_uri": "https://localhost:8080/"
        },
        "id": "T0wil4YCnhxu",
        "outputId": "7844b782-d324-40fa-a7c7-807cf4e04df3"
      },
      "execution_count": 29,
      "outputs": [
        {
          "output_type": "execute_result",
          "data": {
            "text/plain": [
              "({'fit_time': array([1.06484127, 1.0012188 , 0.95633364, 0.96743131, 0.97648287]),\n",
              "  'score_time': array([0.04108024, 0.03964257, 0.04015613, 0.03977442, 0.04100227]),\n",
              "  'test_score': array([0.58947704, 0.76359474, 0.62652106, 0.67569405, 0.54031772])},\n",
              " 0.639120922063683)"
            ]
          },
          "metadata": {},
          "execution_count": 29
        }
      ]
    },
    {
      "cell_type": "code",
      "source": [
        "from sklearn.preprocessing import StandardScaler\n",
        "from sklearn.pipeline import Pipeline\n",
        "\n",
        "modelo = Pipeline([\n",
        "    ('scaler', StandardScaler()),\n",
        "    ('clf', RidgeClassifier())\n",
        "])\n",
        "scores = cross_validate(modelo, X, y)\n",
        "scores, np.mean(scores['test_score'])"
      ],
      "metadata": {
        "colab": {
          "base_uri": "https://localhost:8080/"
        },
        "id": "AHY-w8fLnqbU",
        "outputId": "32976df7-dbb1-4643-d983-28c8b21b728e"
      },
      "execution_count": 30,
      "outputs": [
        {
          "output_type": "execute_result",
          "data": {
            "text/plain": [
              "({'fit_time': array([1.67336273, 1.84624505, 1.6789937 , 1.3823843 , 1.41599607]),\n",
              "  'score_time': array([0.1571517 , 0.14959431, 0.08757424, 0.09126067, 0.08752704]),\n",
              "  'test_score': array([0.58947704, 0.76360335, 0.62653827, 0.6756252 , 0.5407308 ])},\n",
              " 0.6391949311020719)"
            ]
          },
          "metadata": {},
          "execution_count": 30
        }
      ]
    },
    {
      "cell_type": "code",
      "source": [
        "from sklearn.feature_selection import VarianceThreshold\n",
        "\n",
        "modelo = Pipeline([\n",
        "    ('fs', VarianceThreshold(threshold=0.01)),\n",
        "    ('clf', RidgeClassifier())\n",
        "])\n",
        "scores = cross_validate(modelo, X, y)\n",
        "scores, np.mean(scores['test_score'])"
      ],
      "metadata": {
        "colab": {
          "base_uri": "https://localhost:8080/"
        },
        "id": "5csvV8ppnyFw",
        "outputId": "7de3380e-5bbc-4c23-83a2-9ebfa4f3fd2e"
      },
      "execution_count": 31,
      "outputs": [
        {
          "output_type": "execute_result",
          "data": {
            "text/plain": [
              "({'fit_time': array([1.2255609 , 1.25813627, 1.28237391, 1.34297895, 1.57809353]),\n",
              "  'score_time': array([0.07582593, 0.07003903, 0.07319188, 0.06983638, 0.13724613]),\n",
              "  'test_score': array([0.6034784 , 0.77028992, 0.63267414, 0.69466963, 0.53096332])},\n",
              " 0.6464150810342003)"
            ]
          },
          "metadata": {},
          "execution_count": 31
        }
      ]
    },
    {
      "cell_type": "code",
      "source": [
        "from sklearn.feature_selection import SelectPercentile, f_classif\n",
        "\n",
        "modelo = Pipeline([\n",
        "    ('fsvar', VarianceThreshold()),\n",
        "    ('fsanova', SelectPercentile(f_classif)),\n",
        "    ('clf', RidgeClassifier())\n",
        "])\n",
        "scores = cross_validate(modelo, X, y)\n",
        "scores, np.mean(scores['test_score'])"
      ],
      "metadata": {
        "colab": {
          "base_uri": "https://localhost:8080/"
        },
        "id": "-4EroSSFn19c",
        "outputId": "eec2819f-b0da-4abb-8bbc-cc84d9c6d25f"
      },
      "execution_count": 32,
      "outputs": [
        {
          "output_type": "execute_result",
          "data": {
            "text/plain": [
              "({'fit_time': array([1.96674228, 1.81409216, 1.54215288, 1.54334545, 1.53882122]),\n",
              "  'score_time': array([0.1172545 , 0.07291126, 0.09453225, 0.07504559, 0.08402348]),\n",
              "  'test_score': array([0.65963013, 0.75532473, 0.67429993, 0.62916301, 0.52558476])},\n",
              " 0.6488005112564956)"
            ]
          },
          "metadata": {},
          "execution_count": 32
        }
      ]
    },
    {
      "cell_type": "markdown",
      "source": [
        "-> SelectFwe"
      ],
      "metadata": {
        "id": "SfcfdW9vnw_X"
      }
    },
    {
      "cell_type": "code",
      "execution_count": 33,
      "metadata": {
        "colab": {
          "base_uri": "https://localhost:8080/"
        },
        "id": "hlk3fc0nCjy6",
        "outputId": "5b6fd641-9295-46ec-f528-d32a4cbfb7f4"
      },
      "outputs": [
        {
          "output_type": "execute_result",
          "data": {
            "text/plain": [
              "(581012, 54)"
            ]
          },
          "metadata": {},
          "execution_count": 33
        }
      ],
      "source": [
        "from sklearn.feature_selection import SelectFwe, f_classif\n",
        "\n",
        "X_new = SelectFwe(score_func=f_classif, alpha=0.01).fit_transform(X, y)\n",
        "X_new.shape"
      ]
    },
    {
      "cell_type": "code",
      "execution_count": 34,
      "metadata": {
        "colab": {
          "base_uri": "https://localhost:8080/"
        },
        "id": "ABnQwikjC1v6",
        "outputId": "12d31188-da80-476e-ff7f-af5b1854c4b0"
      },
      "outputs": [
        {
          "output_type": "execute_result",
          "data": {
            "text/plain": [
              "({'fit_time': array([40.90818524, 41.36784625, 41.06739187, 40.6389761 , 40.16407156]),\n",
              "  'score_time': array([1.05019069, 1.0316782 , 1.10471725, 1.10448766, 1.00342369]),\n",
              "  'test_score': array([0.61260897, 0.77640853, 0.67226037, 0.64150359, 0.52258997])},\n",
              " 0.6450742861267529)"
            ]
          },
          "metadata": {},
          "execution_count": 34
        }
      ],
      "source": [
        "from sklearn.ensemble import RandomForestClassifier\n",
        "\n",
        "model = RandomForestClassifier(n_estimators=100, max_depth=5, random_state=123)\n",
        "model.fit(X_new, y)\n",
        "\n",
        "ypred = model.predict(X_new)\n",
        "scores = cross_validate(model, X_new, y)\n",
        "scores, np.mean(scores['test_score'])"
      ]
    },
    {
      "cell_type": "code",
      "execution_count": 35,
      "metadata": {
        "colab": {
          "base_uri": "https://localhost:8080/"
        },
        "id": "NzEoOiU4LC_W",
        "outputId": "70e39a9c-fa9e-4523-a477-c23e3543004b"
      },
      "outputs": [
        {
          "output_type": "execute_result",
          "data": {
            "text/plain": [
              "(581012, 54)"
            ]
          },
          "metadata": {},
          "execution_count": 35
        }
      ],
      "source": [
        "X_new = SelectFwe(score_func=f_classif, alpha=0.05).fit_transform(X, y)\n",
        "\n",
        "X_new.shape"
      ]
    },
    {
      "cell_type": "code",
      "execution_count": 36,
      "metadata": {
        "colab": {
          "base_uri": "https://localhost:8080/"
        },
        "id": "g2Poy4tdMUwU",
        "outputId": "aba85ae1-8424-47ff-b477-9cf69e787592"
      },
      "outputs": [
        {
          "output_type": "execute_result",
          "data": {
            "text/plain": [
              "({'fit_time': array([39.82428861, 42.07475948, 41.36108685, 40.77097893, 41.90978384]),\n",
              "  'score_time': array([1.35237312, 1.28513765, 1.08209753, 1.07026792, 1.06499195]),\n",
              "  'test_score': array([0.61260897, 0.77640853, 0.67226037, 0.64150359, 0.52258997])},\n",
              " 0.6450742861267529)"
            ]
          },
          "metadata": {},
          "execution_count": 36
        }
      ],
      "source": [
        "model = RandomForestClassifier(n_estimators=100, max_depth=5, random_state=123)\n",
        "model.fit(X_new, y)\n",
        "\n",
        "ypred = model.predict(X_new)\n",
        "scores = cross_validate(model, X_new, y)\n",
        "scores, np.mean(scores['test_score'])"
      ]
    },
    {
      "cell_type": "code",
      "source": [
        "X_new = SelectFwe(score_func=f_classif, alpha=0.10).fit_transform(X, y)\n",
        "\n",
        "X_new.shape"
      ],
      "metadata": {
        "colab": {
          "base_uri": "https://localhost:8080/"
        },
        "id": "7SMaFixiq2jp",
        "outputId": "fcd06fd3-ca26-4942-abc4-f8d3c021d222"
      },
      "execution_count": 37,
      "outputs": [
        {
          "output_type": "execute_result",
          "data": {
            "text/plain": [
              "(581012, 54)"
            ]
          },
          "metadata": {},
          "execution_count": 37
        }
      ]
    },
    {
      "cell_type": "code",
      "source": [
        "model = RandomForestClassifier(n_estimators=100, max_depth=5, random_state=123)\n",
        "model.fit(X_new, y)\n",
        "\n",
        "ypred = model.predict(X_new)\n",
        "scores = cross_validate(model, X_new, y)\n",
        "scores, np.mean(scores['test_score'])"
      ],
      "metadata": {
        "colab": {
          "base_uri": "https://localhost:8080/"
        },
        "id": "0t9XGmGlq6Z_",
        "outputId": "7326ddb4-99d8-42a2-8a2c-5324ddfc10f8"
      },
      "execution_count": 38,
      "outputs": [
        {
          "output_type": "execute_result",
          "data": {
            "text/plain": [
              "({'fit_time': array([40.70785332, 41.23947906, 40.98660421, 40.66360855, 40.02037549]),\n",
              "  'score_time': array([1.03426909, 1.04816437, 1.01253867, 0.99833918, 0.98927593]),\n",
              "  'test_score': array([0.61260897, 0.77640853, 0.67226037, 0.64150359, 0.52258997])},\n",
              " 0.6450742861267529)"
            ]
          },
          "metadata": {},
          "execution_count": 38
        }
      ]
    },
    {
      "cell_type": "markdown",
      "source": [
        "-> SelectPercentile"
      ],
      "metadata": {
        "id": "Rfov4pAd9lbH"
      }
    },
    {
      "cell_type": "code",
      "source": [
        "from sklearn.feature_selection import SelectPercentile, chi2\n",
        "X_new = SelectPercentile(score_func=f_classif, percentile=7).fit_transform(X, y)\n",
        "X_new.shape\n"
      ],
      "metadata": {
        "colab": {
          "base_uri": "https://localhost:8080/"
        },
        "id": "0gqjKnHNJIoo",
        "outputId": "fafce0a2-bada-4ac0-b4fa-be1670ebebd3"
      },
      "execution_count": 39,
      "outputs": [
        {
          "output_type": "execute_result",
          "data": {
            "text/plain": [
              "(581012, 4)"
            ]
          },
          "metadata": {},
          "execution_count": 39
        }
      ]
    },
    {
      "cell_type": "code",
      "source": [
        "model = RandomForestClassifier(n_estimators=100, max_depth=5, random_state=123)\n",
        "model.fit(X_new, y)\n",
        "\n",
        "ypred = model.predict(X_new)\n",
        "scores = cross_validate(model, X_new, y)\n",
        "scores, np.mean(scores['test_score'])"
      ],
      "metadata": {
        "colab": {
          "base_uri": "https://localhost:8080/"
        },
        "id": "KpHUscAeJjX_",
        "outputId": "fb93483c-d2f0-41cf-d073-06f3deaf37ea"
      },
      "execution_count": 40,
      "outputs": [
        {
          "output_type": "execute_result",
          "data": {
            "text/plain": [
              "({'fit_time': array([23.36415076, 24.15462232, 23.77996898, 22.71345782, 22.92034459]),\n",
              "  'score_time': array([0.86354852, 0.86039448, 0.86284518, 1.0621438 , 0.85009217]),\n",
              "  'test_score': array([0.69569632, 0.77206268, 0.66231218, 0.65844822, 0.55427617])},\n",
              " 0.6685591164368807)"
            ]
          },
          "metadata": {},
          "execution_count": 40
        }
      ]
    },
    {
      "cell_type": "code",
      "source": [
        "from sklearn.feature_selection import SelectPercentile, chi2\n",
        "X_new = SelectPercentile(score_func=f_classif, percentile=14).fit_transform(X, y)\n",
        "X_new.shape"
      ],
      "metadata": {
        "colab": {
          "base_uri": "https://localhost:8080/"
        },
        "id": "71LcXp81Kwfu",
        "outputId": "7b676a0c-95d4-4254-c01c-ad0285d9b181"
      },
      "execution_count": 41,
      "outputs": [
        {
          "output_type": "execute_result",
          "data": {
            "text/plain": [
              "(581012, 8)"
            ]
          },
          "metadata": {},
          "execution_count": 41
        }
      ]
    },
    {
      "cell_type": "code",
      "source": [
        "model = RandomForestClassifier(n_estimators=100, max_depth=5, random_state=123)\n",
        "model.fit(X_new, y)\n",
        "\n",
        "ypred = model.predict(X_new)\n",
        "scores = cross_validate(model, X_new, y)\n",
        "scores, np.mean(scores['test_score'])"
      ],
      "metadata": {
        "colab": {
          "base_uri": "https://localhost:8080/"
        },
        "id": "6RbgF4yDLygI",
        "outputId": "d2bb607d-0c07-45f7-9fe4-9fbdd78717d7"
      },
      "execution_count": 42,
      "outputs": [
        {
          "output_type": "execute_result",
          "data": {
            "text/plain": [
              "({'fit_time': array([16.1264205 , 16.42109394, 17.0401957 , 16.95022511, 16.55174327]),\n",
              "  'score_time': array([0.8316865 , 0.81779766, 1.13826108, 0.82310557, 0.80781651]),\n",
              "  'test_score': array([0.69707323, 0.78267342, 0.69514294, 0.6584224 , 0.54760675])},\n",
              " 0.6761837494248804)"
            ]
          },
          "metadata": {},
          "execution_count": 42
        }
      ]
    },
    {
      "cell_type": "code",
      "source": [
        "from sklearn.feature_selection import SelectPercentile, chi2\n",
        "X_new = SelectPercentile(score_func=f_classif, percentile=21).fit_transform(X, y)\n",
        "X_new.shape"
      ],
      "metadata": {
        "colab": {
          "base_uri": "https://localhost:8080/"
        },
        "id": "sX_TnmwINBWi",
        "outputId": "3c9ec479-f818-4962-ac8c-9906ce212a0f"
      },
      "execution_count": 43,
      "outputs": [
        {
          "output_type": "execute_result",
          "data": {
            "text/plain": [
              "(581012, 12)"
            ]
          },
          "metadata": {},
          "execution_count": 43
        }
      ]
    },
    {
      "cell_type": "code",
      "source": [
        "model = RandomForestClassifier(n_estimators=100, max_depth=5, random_state=123)\n",
        "model.fit(X_new, y)\n",
        "\n",
        "ypred = model.predict(X_new)\n",
        "scores = cross_validate(model, X_new, y)\n",
        "scores, np.mean(scores['test_score'])"
      ],
      "metadata": {
        "colab": {
          "base_uri": "https://localhost:8080/"
        },
        "id": "CldgX3-sNDyP",
        "outputId": "9e57527b-44c8-4dfd-a215-2c5edd773683"
      },
      "execution_count": 44,
      "outputs": [
        {
          "output_type": "execute_result",
          "data": {
            "text/plain": [
              "({'fit_time': array([24.93462563, 26.13141394, 25.83653617, 25.93576622, 25.57023525]),\n",
              "  'score_time': array([0.86648583, 0.86517668, 0.85442257, 0.8687582 , 0.86245704]),\n",
              "  'test_score': array([0.68491347, 0.73832001, 0.69495362, 0.65146039, 0.54143646])},\n",
              " 0.6622167893263811)"
            ]
          },
          "metadata": {},
          "execution_count": 44
        }
      ]
    }
  ],
  "metadata": {
    "colab": {
      "provenance": [],
      "collapsed_sections": [
        "53bqOQd9sCLX",
        "QVmtfHY5r9xN",
        "e0jHHVu-Cgr5"
      ],
      "include_colab_link": true
    },
    "kernelspec": {
      "display_name": "Python 3",
      "name": "python3"
    },
    "language_info": {
      "name": "python"
    }
  },
  "nbformat": 4,
  "nbformat_minor": 0
}